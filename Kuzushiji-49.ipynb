{
 "cells": [
  {
   "cell_type": "code",
   "execution_count": 1,
   "metadata": {},
   "outputs": [],
   "source": [
    "import numpy as np\n",
    "import os\n",
    "import torch\n",
    "import matplotlib.pyplot as plt\n",
    "from torch.utils.data import Dataset, DataLoader\n",
    "from torchvision import transforms, utils\n",
    "import torchvision\n",
    "from PIL import Image"
   ]
  },
  {
   "cell_type": "code",
   "execution_count": 2,
   "metadata": {},
   "outputs": [],
   "source": [
    "import requests\n",
    "\n",
    "class Kuzushijidataset():\n",
    "    \n",
    "    resources = [\n",
    "    (\"http://codh.rois.ac.jp/kmnist/dataset/k49/k49-train-imgs.npz\"),\n",
    "    (\"http://codh.rois.ac.jp/kmnist/dataset/k49/k49-train-labels.npz\"),\n",
    "    (\"http://codh.rois.ac.jp/kmnist/dataset/k49/k49-test-imgs.npz\"),\n",
    "    (\"http://codh.rois.ac.jp/kmnist/dataset/k49/k49-test-labels.npz\")]\n",
    "    \n",
    "    training_file_imgs = \"k49-train-imgs.npz\"\n",
    "    training_file_labels = \"k49-train-labels.npz\"\n",
    "    test_file_imgs = \"k49-test-imgs.npz\"\n",
    "    test_file_labels = \"k49-test-labels.npz\"\n",
    "    data_dir = \"data\"\n",
    "    \n",
    "   \n",
    "    def __init__(self, data_dir=\"data\", train=True, transform=None, download=True):\n",
    "        self.data_dir = data_dir\n",
    "        \n",
    "        if download:\n",
    "            self.download(train)\n",
    "            \n",
    "        train_data_imgs = os.path.join(self.data_dir, self.training_file_imgs)\n",
    "        train_data_imgs = np.load(train_data_imgs)\n",
    "        train_data_imgs = train_data_imgs.f.arr_0\n",
    "\n",
    "        train_data_labels = os.path.join(self.data_dir, self.training_file_labels)\n",
    "        train_data_labels = np.load(train_data_labels)\n",
    "        train_data_labels = train_data_labels.f.arr_0\n",
    "\n",
    "        test_data_imgs = os.path.join(self.data_dir, self.test_file_imgs)\n",
    "        test_data_imgs = np.load(test_data_imgs)\n",
    "        test_data_imgs = test_data_imgs.f.arr_0\n",
    "        \n",
    "        test_data_labels = os.path.join(self.data_dir, self.test_file_labels)\n",
    "        test_data_labels = np.load(test_data_labels)\n",
    "        test_data_labels = test_data_labels.f.arr_0\n",
    "        \n",
    "        self.transform = transform\n",
    "        \n",
    "        if train:\n",
    "            self.data = train_data_imgs\n",
    "            self.targets = train_data_labels\n",
    "        else:\n",
    "            self.data = test_data_imgs\n",
    "            self.targets = test_data_labels\n",
    "\n",
    "\n",
    "    def __len__(self):\n",
    "        return(len(self.data))\n",
    "    \n",
    "    def __getitem__(self, idx):\n",
    "        img, target = self.data[idx], int(self.targets[idx])\n",
    "\n",
    "        # doing this so that it is consistent with all other datasets\n",
    "        # to return a PIL Image\n",
    "        img = Image.fromarray(img, mode='L') # mode='L' - (8-bit pixels, black and white)\n",
    "\n",
    "        if self.transform:\n",
    "            img = self.transform(img)\n",
    "        \n",
    "        return img, target        \n",
    "      \n",
    "    def download(self, train):\n",
    "        # download the Kuzushiji-49 dataset if it doesn't exist\n",
    "        if self._check_exists():\n",
    "            if train:\n",
    "                print('Train dataset already exists!')\n",
    "            else:\n",
    "                print('Test dataset already exists!')\n",
    "            return\n",
    "\n",
    "        if not os.path.exists(self.data_dir):\n",
    "            os.makedirs(self.data_dir)\n",
    "            \n",
    "        for url in self.resources:\n",
    "            filename = url.rpartition('/')[2]\n",
    "            print('Downloading: ', filename)\n",
    "            myfile = requests.get(url, allow_redirects=True)\n",
    "            open(os.path.join(self.data_dir, filename), 'wb').write(myfile.content)\n",
    "\n",
    "        print('All files downloaded!')\n",
    "        \n",
    "\n",
    "    def _check_exists(self):\n",
    "        return (os.path.exists(os.path.join(self.data_dir, self.training_file_imgs)) and\n",
    "                os.path.exists(os.path.join(self.data_dir, self.training_file_labels)) and\n",
    "                os.path.exists(os.path.join(self.data_dir, self.test_file_imgs)) and\n",
    "                os.path.exists(os.path.join(self.data_dir, self.test_file_labels)))\n"
   ]
  },
  {
   "cell_type": "code",
   "execution_count": 3,
   "metadata": {},
   "outputs": [],
   "source": [
    "classes = ['あ - a', 'い - i', 'う - u', 'え - e', 'お - o', \n",
    "       'か - ka', 'き - ki', 'く - ku', 'け - ke', 'こ - ko', \n",
    "       'さ - sa', 'し - shi', 'す - su', 'せ - se', 'そ - so', \n",
    "       'た - ta', 'ち - chi', 'つ - tsu', 'て - te', 'と - to', \n",
    "       'な - na', 'に - ni', 'ぬ - nu', 'ね - ne', 'の - no',\n",
    "       'は - ha', 'ひ - hi', 'ふ - fu', 'へ - he', 'ほ - ho',\n",
    "       'ま - ma', 'み - mi', 'む - mu', 'め - me', 'も - mo',\n",
    "       'や - ya', 'ゆ - yu', 'よ - yo', \n",
    "       'ら - ra', 'り - ri', 'る - ru', 'れ - re', 'ろ - ro',\n",
    "       'わ - wa', 'ゐ - wi', 'ゑ - we', 'を - wo', 'ん - n', 'ゝ']"
   ]
  },
  {
   "cell_type": "code",
   "execution_count": 4,
   "metadata": {},
   "outputs": [
    {
     "name": "stdout",
     "output_type": "stream",
     "text": [
      "Downloading:  k49-train-imgs.npz\n",
      "Downloading:  k49-train-labels.npz\n",
      "Downloading:  k49-test-imgs.npz\n",
      "Downloading:  k49-test-labels.npz\n",
      "All files downloaded!\n",
      "Test dataset already exists!\n",
      "Train dataset size:  232365\n",
      "Test dataset size:  38547\n"
     ]
    }
   ],
   "source": [
    "# Load train and test datasets\n",
    "transform = transforms.Compose(\n",
    "    [transforms.ToTensor(),\n",
    "     transforms.Normalize((0.1307,), (0.3081,))\n",
    "    ])\n",
    "\n",
    "\n",
    "train_data = Kuzushijidataset(\"data\", train=True, download=True, transform=transforms.ToTensor())\n",
    "\n",
    "test_data = Kuzushijidataset(\"data\", train=False, download=True, transform=transforms.ToTensor())\n",
    "\n",
    "\n",
    "print(\"Train dataset size: \", len(train_data))\n",
    "print(\"Test dataset size: \", len(test_data))"
   ]
  },
  {
   "cell_type": "code",
   "execution_count": 5,
   "metadata": {},
   "outputs": [],
   "source": [
    "# Split the training dataset into training and validation\n",
    "train_data, val_data = torch.utils.data.random_split(train_data, [210000, 22365])    # split into 200k training & ~32k validation (roughly the size of the test dataset)"
   ]
  },
  {
   "cell_type": "code",
   "execution_count": 6,
   "metadata": {},
   "outputs": [],
   "source": [
    "batch_size = 128\n",
    "\n",
    "# create training data loader\n",
    "train_loader = torch.utils.data.DataLoader(dataset=train_data, batch_size=batch_size, shuffle=True) \n",
    "\n",
    "\n",
    "# create validation data loader\n",
    "val_loader = torch.utils.data.DataLoader(dataset=val_data, batch_size=batch_size, shuffle=True)\n",
    "\n",
    "# create test data loader\n",
    "test_loader = torch.utils.data.DataLoader(dataset=test_data, batch_size=batch_size, shuffle=True)\n"
   ]
  },
  {
   "cell_type": "code",
   "execution_count": 7,
   "metadata": {},
   "outputs": [
    {
     "data": {
      "image/png": "[encoded data removed]",
      "text/plain": [
       "<Figure size 432x288 with 1 Axes>"
      ]
     },
     "metadata": {
      "needs_background": "light"
     },
     "output_type": "display_data"
    },
    {
     "name": "stdout",
     "output_type": "stream",
     "text": [
      "へ - he | め - me | ひ - hi |     ゝ | し - shi |\n"
     ]
    }
   ],
   "source": [
    "import matplotlib.pyplot as plt\n",
    "import numpy as np\n",
    "\n",
    "qtd_images = 5\n",
    "\n",
    "# functions to show an image\n",
    "def imshow(img):\n",
    "    img = img / 2 + 0.5     # unnormalize\n",
    "    npimg = img.numpy()\n",
    "    plt.imshow(np.transpose(npimg, (1, 2, 0)))\n",
    "    plt.show()\n",
    "\n",
    "\n",
    "# get some random training images\n",
    "dataiter = iter(train_loader)\n",
    "images, labels = dataiter.next()\n",
    "\n",
    "# show images\n",
    "imshow(torchvision.utils.make_grid(images[:qtd_images], nrow = qtd_images, scale_each=False))\n",
    "# print labels\n",
    "print(' '.join('%5s |' % classes[labels[j]] for j in range(qtd_images)))"
   ]
  },
  {
   "cell_type": "code",
   "execution_count": 8,
   "metadata": {},
   "outputs": [],
   "source": [
    "# define the model\n",
    "\n",
    "import torch.nn.functional as F\n",
    "\n",
    "class ConvNet(torch.nn.Module):\n",
    "    def __init__(self):\n",
    "        super().__init__()\n",
    "            # torch.nn.conv2d(in_channels, out_channels, kernel_size)\n",
    "            # in_channels is the number of layers which it takes in (i.e.num color channels in 1st layer)\n",
    "            # out_channels is the number of different filters that we use\n",
    "            # kernel_size is the depthxwidthxheight of the kernel#\n",
    "            # stride is how many pixels we shift the kernel by each time\n",
    "        self.conv_layers = torch.nn.Sequential(\n",
    "            torch.nn.Conv2d(in_channels=1, out_channels=32, kernel_size=5, stride=1), # -4\n",
    "            torch.nn.ReLU(),\n",
    "            torch.nn.Conv2d(in_channels=32, out_channels= 64, kernel_size=5, stride=1),#\n",
    "            torch.nn.ReLU()\n",
    "        )\n",
    "        self.fc_layers = torch.nn.Sequential(\n",
    "            torch.nn.Linear(64 * 20 * 20, 120),\n",
    "            torch.nn.Linear(120, 49)\n",
    "        )\n",
    "        \n",
    "        # Spatial transformer localization-network\n",
    "        self.localization = torch.torch.nn.Sequential(\n",
    "            torch.nn.Conv2d(1, 8, kernel_size=7),\n",
    "            torch.nn.MaxPool2d(2, stride=2),\n",
    "            torch.nn.ReLU(True),\n",
    "            torch.nn.Conv2d(8, 10, kernel_size=5),\n",
    "            torch.nn.MaxPool2d(2, stride=2),\n",
    "            torch.nn.ReLU(True)\n",
    "        )\n",
    "\n",
    "        # Regressor for the 3 * 2 affine matrix\n",
    "        self.fc_loc = torch.nn.Sequential(\n",
    "            torch.nn.Linear(10 * 3 * 3, 32),\n",
    "            torch.nn.ReLU(True),\n",
    "            torch.nn.Linear(32, 3 * 2)\n",
    "        )\n",
    "\n",
    "        # Initialize the weights/bias with identity transformation\n",
    "        self.fc_loc[2].weight.data.zero_()\n",
    "        self.fc_loc[2].bias.data.copy_(torch.tensor([1, 0, 0, 0, 1, 0], dtype=torch.float))\n",
    "\n",
    "        \n",
    "    def stn(self, x):\n",
    "        xs = self.localization(x)\n",
    "        xs = xs.view(-1, 10 * 3 * 3)\n",
    "        theta = self.fc_loc(xs)\n",
    "        theta = theta.view(-1, 2, 3)\n",
    "\n",
    "        grid = F.affine_grid(theta, x.size())\n",
    "        x = F.grid_sample(x, grid)\n",
    "\n",
    "        return x\n",
    "    \n",
    "    def forward(self, x):\n",
    "        x = self.stn(x)\n",
    "        x = self.conv_layers(x)\n",
    "        x = x.view(x.shape[0], -1)\n",
    "        x = self.fc_layers(x)\n",
    "        X = F.softmax(x, dim=1)\n",
    "        return x\n"
   ]
  },
  {
   "cell_type": "code",
   "execution_count": 9,
   "metadata": {},
   "outputs": [
    {
     "name": "stdout",
     "output_type": "stream",
     "text": [
      "True\n"
     ]
    }
   ],
   "source": [
    "use_cuda = torch.cuda.is_available()\n",
    "device = torch.device(\"cuda\" if use_cuda else \"cpu\")\n",
    "print(use_cuda)"
   ]
  },
  {
   "cell_type": "code",
   "execution_count": 10,
   "metadata": {},
   "outputs": [],
   "source": [
    "CNN = ConvNet().to(device)\n",
    "\n",
    "criterion = torch.nn.CrossEntropyLoss()\n",
    "\n",
    "from torch.utils.tensorboard import SummaryWriter\n",
    "writer = SummaryWriter() # we will use this to show our models performance on a graph"
   ]
  },
  {
   "cell_type": "code",
   "execution_count": 11,
   "metadata": {},
   "outputs": [],
   "source": [
    "def train(model, epochs, optimiser='Adam', learning_rate = 0.0001, verbose=False, tag='Loss/Train'):\n",
    "    if(optimiser=='Adam'):\n",
    "        optimiser = torch.optim.Adam(model.parameters(), lr= learning_rate)\n",
    "    else:\n",
    "        optimiser = torch.optim.SGD(model.parameters(), lr= learning_rate)\n",
    "        \n",
    "    \n",
    "    model.train()                                  # put the model into training mode (more on this later)\n",
    "    for epoch in range(epochs):\n",
    "        for idx, (inputs, labels) in enumerate(train_loader):\n",
    "            inputs, labels = inputs.to(device), labels.to(device)\n",
    "            prediction = model(inputs) # pass the data forward through the model\n",
    "            loss = criterion(prediction, labels) # compute the loss\n",
    "            optimiser.zero_grad() # reset the gradients attribute of each of the model's params to zero\n",
    "            loss.backward() # backward pass to compute and set all of the model param's gradients\n",
    "            optimiser.step() # update the model's parameters\n",
    "            writer.add_scalar(tag, loss, epoch*len(train_loader) + idx)    # write loss to a graph\n",
    "        if verbose: print('Epoch:', epoch, '\\tAccuracy:', calc_accuracy(model, val_loader), '\\tLoss:', loss)"
   ]
  },
  {
   "cell_type": "code",
   "execution_count": 12,
   "metadata": {},
   "outputs": [],
   "source": [
    "import numpy as np\n",
    "            \n",
    "def calc_accuracy(model, dataloader, testset=False):\n",
    "    misclass_i = []\n",
    "    misclass_l = []\n",
    "    num_correct = 0\n",
    "    num_examples = len(dataloader.dataset)                       # test DATA not test LOADER\n",
    "    for inputs, labels in dataloader:                  # for all exampls, over all mini-batches in the test dataset\n",
    "        inputs, labels = inputs.to(device), labels.to(device)\n",
    "        predictions = model(inputs)\n",
    "        predictions = torch.max(predictions, axis=1)    # reduce to find max indices along direction which column varies\n",
    "        predictions = predictions[1]                    # torch.max returns (values, indices)\n",
    "        num_correct += int(sum(predictions == labels))\n",
    "\n",
    "        if testset: #generate a list of misclassified data\n",
    "            if sum(predictions != labels):\n",
    "                for i in range(len(predictions)):\n",
    "                    if(predictions[i] != labels[i]):\n",
    "                        misclass_i.append(inputs[i])\n",
    "                        misclass_l.append(labels[i])\n",
    "                \n",
    "    percent_correct = num_correct / num_examples * 100\n",
    "    return percent_correct, misclass_i, misclass_l"
   ]
  },
  {
   "cell_type": "code",
   "execution_count": null,
   "metadata": {},
   "outputs": [
    {
     "name": "stderr",
     "output_type": "stream",
     "text": [
      "/home/elisio/anaconda3/lib/python3.7/site-packages/torch/nn/functional.py:2751: UserWarning: Default grid_sample and affine_grid behavior will be changed to align_corners=False from 1.4.0. See the documentation of grid_sample for details.\n",
      "  warnings.warn(\"Default grid_sample and affine_grid behavior will be changed \"\n",
      "/home/elisio/anaconda3/lib/python3.7/site-packages/torch/nn/functional.py:2693: UserWarning: Default grid_sample and affine_grid behavior will be changed to align_corners=False from 1.4.0. See the documentation of grid_sample for details.\n",
      "  warnings.warn(\"Default grid_sample and affine_grid behavior will be changed \"\n"
     ]
    },
    {
     "name": "stdout",
     "output_type": "stream",
     "text": [
      "Epoch: 0 \tAccuracy: (87.89179521573888, [], []) \tLoss: tensor(0.1699, device='cuda:0', grad_fn=<NllLossBackward>)\n",
      "Epoch: 1 \tAccuracy: (91.11558238318803, [], []) \tLoss: tensor(0.3328, device='cuda:0', grad_fn=<NllLossBackward>)\n",
      "Epoch: 2 \tAccuracy: (92.96668902302704, [], []) \tLoss: tensor(0.1340, device='cuda:0', grad_fn=<NllLossBackward>)\n",
      "Epoch: 3 \tAccuracy: (93.83858707802369, [], []) \tLoss: tensor(0.3004, device='cuda:0', grad_fn=<NllLossBackward>)\n",
      "Epoch: 4 \tAccuracy: (94.12027721886876, [], []) \tLoss: tensor(0.2140, device='cuda:0', grad_fn=<NllLossBackward>)\n",
      "Epoch: 5 \tAccuracy: (94.6121171473284, [], []) \tLoss: tensor(0.1478, device='cuda:0', grad_fn=<NllLossBackward>)\n",
      "Epoch: 6 \tAccuracy: (94.77755421417393, [], []) \tLoss: tensor(0.0521, device='cuda:0', grad_fn=<NllLossBackward>)\n",
      "Epoch: 7 \tAccuracy: (94.87145092778896, [], []) \tLoss: tensor(0.0781, device='cuda:0', grad_fn=<NllLossBackward>)\n",
      "Train Accuracy: (97.55142857142857, [], [])\n"
     ]
    }
   ],
   "source": [
    "model = CNN\n",
    "\n",
    "train(model, epochs=8, optimiser='Adam', learning_rate=0.0001, verbose=True)\n",
    "print('Train Accuracy:', calc_accuracy(model, train_loader))\n",
    "print('Test Accuracy:', calc_accuracy(model, test_loader))"
   ]
  },
  {
   "cell_type": "code",
   "execution_count": null,
   "metadata": {},
   "outputs": [],
   "source": []
  }
 ],
 "metadata": {
  "kernelspec": {
   "display_name": "Python 3",
   "language": "python",
   "name": "python3"
  },
  "language_info": {
   "codemirror_mode": {
    "name": "ipython",
    "version": 3
   },
   "file_extension": ".py",
   "mimetype": "text/x-python",
   "name": "python",
   "nbconvert_exporter": "python",
   "pygments_lexer": "ipython3",
   "version": "3.7.4"
  }
 },
 "nbformat": 4,
 "nbformat_minor": 2
}
